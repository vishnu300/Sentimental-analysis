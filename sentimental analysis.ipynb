{
 "cells": [
  {
   "cell_type": "code",
   "execution_count": null,
   "id": "925c3fdd",
   "metadata": {},
   "outputs": [],
   "source": [
    "pip install nltk"
   ]
  },
  {
   "cell_type": "code",
   "execution_count": null,
   "id": "733f8696",
   "metadata": {},
   "outputs": [],
   "source": [
    "import nltk\n",
    "\n",
    "nltk.download()"
   ]
  },
  {
   "cell_type": "code",
   "execution_count": null,
   "id": "03fd3979",
   "metadata": {},
   "outputs": [],
   "source": [
    "#nltk.download([\"names\",\"stopwords\",\"state_union\",\"twitter_samples\",\"movie_reviews\",\"averaged_perceptron_tagger\",\"vader_lexicon\",\"punkt\",])"
   ]
  },
  {
   "cell_type": "code",
   "execution_count": null,
   "id": "d1d990b1",
   "metadata": {},
   "outputs": [],
   "source": [
    "import nltk\n",
    "from textblob import TextBlob"
   ]
  },
  {
   "cell_type": "code",
   "execution_count": null,
   "id": "d2d5c43c",
   "metadata": {},
   "outputs": [],
   "source": [
    "nltk.download('punkt')"
   ]
  },
  {
   "cell_type": "code",
   "execution_count": null,
   "id": "2d8c34ed",
   "metadata": {},
   "outputs": [],
   "source": [
    "nltk.download('stopwords')"
   ]
  },
  {
   "cell_type": "code",
   "execution_count": null,
   "id": "4d1c231e",
   "metadata": {},
   "outputs": [],
   "source": [
    "# Example data (replace with your social media data)\n",
    "social_media_text = \"I love using Python for sentimental analysis! 😊\"\n",
    "\n",
    "# Tokenization\n",
    "words = nltk.word_tokenize(social_media_text)\n",
    "\n",
    "# Lowercasing\n",
    "words = [word.lower() for word in words]\n",
    "\n",
    "# Remove stopwords (optional)\n",
    "stop_words = set(nltk.corpus.stopwords.words('english'))\n",
    "words = [word for word in words if word.isalnum() and word not in stop_words]\n"
   ]
  },
  {
   "cell_type": "code",
   "execution_count": null,
   "id": "c0370932",
   "metadata": {},
   "outputs": [],
   "source": [
    "# Example data (replace with your social media data)\n",
    "social_media_text = \"I love using Python for sentimental analysis! 😊\"\n",
    "\n",
    "# Tokenization\n",
    "words = nltk.word_tokenize(social_media_text)\n",
    "\n",
    "# Lowercasing\n",
    "words = [word.lower() for word in words]\n",
    "\n",
    "# Remove stopwords (optional)\n",
    "stop_words = set(nltk.corpus.stopwords.words('english'))\n",
    "words = [word for word in words if word.isalnum() and word not in stop_words]\n",
    "\n",
    "\n",
    "Perform Sentiment Analysis:\n",
    "\n",
    "Use the TextBlob library to perform sentiment analysis on the preprocessed text.\n",
    "\n",
    "# Create a TextBlob object\n",
    "blob = TextBlob(' '.join(words))\n",
    "\n",
    "# Get sentiment polarity (-1 to 1) and subjectivity (0 to 1)\n",
    "sentiment_polarity = blob.sentiment.polarity\n",
    "sentiment_subjectivity = blob.sentiment.subjectivity\n",
    "\n",
    "\n",
    "Interpret the Results:\n",
    "Analyze the sentiment polarity and subjectivity to determine the sentiment of the text.\n",
    "\n",
    "if sentiment_polarity > 0:\n",
    "    sentiment_label = 'Positive'\n",
    "elif sentiment_polarity < 0:\n",
    "    sentiment_label = 'Negative'\n",
    "else:\n",
    "    sentiment_label = 'Neutral'\n",
    "\n",
    "print(f\"Sentiment: {sentiment_label}\")\n",
    "print(f\"Polarity: {sentiment_polarity}\")\n",
    "print(f\"Subjectivity: {sentiment_subjectivity}\")\n",
    "Visualize the Results (Optional):\n",
    "You can visualize the sentiment analysis results using libraries like Matplotlib or Seaborn.\n",
    "\n",
    "\n",
    "import matplotlib.pyplot as plt\n",
    "\n",
    "# Plot sentiment distribution\n",
    "labels = ['Positive', 'Neutral', 'Negative']\n",
    "sizes = [sentiment_polarity, 1 - abs(sentiment_polarity), abs(sentiment_polarity)]\n",
    "colors = ['green', 'lightgrey', 'red']\n",
    "\n",
    "plt.pie(sizes, labels=labels, colors=colors, autopct='%1.1f%%', startangle=140)\n",
    "plt.axis('equal')\n",
    "plt.title('Sentiment Distribution')\n",
    "plt.show()\n",
    "These steps provide a basic structure for performing sentiment analysis on social media text using Python. Keep in mind that the accuracy of sentiment analysis may vary based on the complexity of the language used in social media posts and the choice of libraries or models. For more advanced sentiment analysis, you may explore other libraries and machine learning models.\n",
    "\n",
    "\n"
   ]
  }
 ],
 "metadata": {
  "kernelspec": {
   "display_name": "Python 3 (ipykernel)",
   "language": "python",
   "name": "python3"
  },
  "language_info": {
   "codemirror_mode": {
    "name": "ipython",
    "version": 3
   },
   "file_extension": ".py",
   "mimetype": "text/x-python",
   "name": "python",
   "nbconvert_exporter": "python",
   "pygments_lexer": "ipython3",
   "version": "3.11.5"
  }
 },
 "nbformat": 4,
 "nbformat_minor": 5
}
